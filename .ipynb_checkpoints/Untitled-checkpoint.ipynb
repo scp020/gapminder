{
 "cells": [
  {
   "cell_type": "code",
   "execution_count": 6,
   "id": "f9f44744-347c-4b87-95fe-bb6d06a64ef8",
   "metadata": {},
   "outputs": [],
   "source": [
    "!python data.py"
   ]
  },
  {
   "cell_type": "code",
   "execution_count": null,
   "id": "91b29b8b-0ae6-4401-a019-0c281b5a8424",
   "metadata": {},
   "outputs": [],
   "source": []
  }
 ],
 "metadata": {
  "kernelspec": {
   "display_name": "Python 3 (ipykernel)",
   "language": "python",
   "name": "python3"
  },
  "language_info": {
   "codemirror_mode": {
    "name": "ipython",
    "version": 3
   },
   "file_extension": ".py",
   "mimetype": "text/x-python",
   "name": "python",
   "nbconvert_exporter": "python",
   "pygments_lexer": "ipython3",
   "version": "3.13.5"
  }
 },
 "nbformat": 4,
 "nbformat_minor": 5
}
